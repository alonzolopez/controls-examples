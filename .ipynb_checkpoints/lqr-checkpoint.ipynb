{
 "cells": [
  {
   "cell_type": "code",
   "execution_count": 7,
   "metadata": {},
   "outputs": [],
   "source": [
    "import numpy as np\n",
    "from simenvs.hcwsim import HCWSim"
   ]
  },
  {
   "cell_type": "markdown",
   "metadata": {},
   "source": [
    "# Dynamics\n",
    "Initialize the HCW Dynamics"
   ]
  },
  {
   "cell_type": "code",
   "execution_count": 6,
   "metadata": {},
   "outputs": [
    {
     "name": "stdout",
     "output_type": "stream",
     "text": [
      "HCW Sim initialized\n",
      "A\n",
      " [[ 1.00000000e+00  0.00000000e+00  0.00000000e+00  1.00000000e-02\n",
      "   1.12762156e-07  0.00000000e+00]\n",
      " [-1.43379977e-15  1.00000000e+00  0.00000000e+00 -1.12762156e-07\n",
      "   1.00000000e-02  0.00000000e+00]\n",
      " [ 0.00000000e+00  0.00000000e+00  1.00000000e+00  0.00000000e+00\n",
      "   0.00000000e+00  1.00000000e-02]\n",
      " [ 3.81458616e-08  0.00000000e+00  0.00000000e+00  1.00000000e+00\n",
      "   2.25524165e-05  0.00000000e+00]\n",
      " [-4.30140959e-13  0.00000000e+00  0.00000000e+00 -2.25524165e-05\n",
      "   1.00000000e+00  0.00000000e+00]\n",
      " [ 0.00000000e+00  0.00000000e+00 -1.27152872e-08  0.00000000e+00\n",
      "   0.00000000e+00  1.00000000e+00]]\n",
      "B\n",
      " [[ 2.50000163e-05  1.87936478e-10  0.00000000e+00]\n",
      " [-1.87936478e-10  2.50000650e-05  0.00000000e+00]\n",
      " [ 0.00000000e+00  0.00000000e+00  2.50000163e-05]\n",
      " [ 5.00000000e-03  2.81905389e-08  0.00000000e+00]\n",
      " [-5.63810778e-08  5.00000000e-03  0.00000000e+00]\n",
      " [ 0.00000000e+00  0.00000000e+00  5.00000000e-03]]\n",
      "C\n",
      " [[1. 0. 0.]\n",
      " [0. 1. 0.]\n",
      " [0. 0. 1.]]\n",
      "D\n",
      " [[0. 0. 0.]\n",
      " [0. 0. 0.]\n",
      " [0. 0. 0.]]\n"
     ]
    }
   ],
   "source": [
    "sim = HCWSim()\n",
    "# print(\"A\\n\",sim.A)\n",
    "# print(\"B\\n\",sim.B)\n",
    "# print(\"C\\n\",sim.C)\n",
    "# print(\"D\\n\",sim.D)"
   ]
  },
  {
   "cell_type": "markdown",
   "metadata": {},
   "source": [
    "# Stability\n",
    "Check the eigenvalues of (A-BK)"
   ]
  },
  {
   "cell_type": "code",
   "execution_count": null,
   "metadata": {},
   "outputs": [],
   "source": [
    "# evals = np.linalg.eig(sim.A - sim.B.dot(K))"
   ]
  }
 ],
 "metadata": {
  "kernelspec": {
   "display_name": "Python 3",
   "language": "python",
   "name": "python3"
  },
  "language_info": {
   "codemirror_mode": {
    "name": "ipython",
    "version": 3
   },
   "file_extension": ".py",
   "mimetype": "text/x-python",
   "name": "python",
   "nbconvert_exporter": "python",
   "pygments_lexer": "ipython3",
   "version": "3.6.9"
  }
 },
 "nbformat": 4,
 "nbformat_minor": 4
}
